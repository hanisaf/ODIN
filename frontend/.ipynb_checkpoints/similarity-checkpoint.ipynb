{
 "cells": [
  {
   "cell_type": "code",
   "execution_count": 1,
   "metadata": {
    "collapsed": false
   },
   "outputs": [
    {
     "name": "stderr",
     "output_type": "stream",
     "text": [
      "/root/anaconda2/lib/python2.7/site-packages/gensim/utils.py:1015: UserWarning: Pattern library is not installed, lemmatization won't be available.\n",
      "  warnings.warn(\"Pattern library is not installed, lemmatization won't be available.\")\n"
     ]
    }
   ],
   "source": [
    "from gensim.models import Word2Vec\n",
    "import json\n",
    "import networkx as nx\n",
    "from  networkx.readwrite.json_graph import node_link_data\n",
    "from random import randint"
   ]
  },
  {
   "cell_type": "code",
   "execution_count": 2,
   "metadata": {
    "collapsed": true
   },
   "outputs": [],
   "source": [
    "model = Word2Vec.load('data/model3.model')"
   ]
  },
  {
   "cell_type": "code",
   "execution_count": 3,
   "metadata": {
    "collapsed": true
   },
   "outputs": [],
   "source": [
    "class JsonGraph(nx.DiGraph):\n",
    "    def add_node(self, n, attr_dict=None, **attr):\n",
    "        nx.DiGraph.add_node(self, n, attr_dict, x=randint(0,100), y=randint(0,100), size=3, **attr)\n",
    "        \n",
    "    def jsonify(self):\n",
    "        rgraph=node_link_data(self, dict(id='id', source='source', target='target', key='key'))\n",
    "        nodes = rgraph['nodes']\n",
    "        edges = rgraph['links']\n",
    "        return {\"nodes\":nodes, \"edges\":edges}"
   ]
  },
  {
   "cell_type": "code",
   "execution_count": null,
   "metadata": {
    "collapsed": true
   },
   "outputs": [],
   "source": []
  },
  {
   "cell_type": "code",
   "execution_count": 4,
   "metadata": {
    "collapsed": false
   },
   "outputs": [],
   "source": [
    "def gen_concept(word, topn=10):\n",
    "    G = JsonGraph()\n",
    "    if word is not None:\n",
    "        results = model.most_similar(word,topn=topn)\n",
    "        G.add_node(0, label=word)\n",
    "        i = 0\n",
    "        en = 0\n",
    "        for e in results:\n",
    "            i = i + 1\n",
    "            G.add_node(i, label=e[0])\n",
    "            G.add_edge(0, i, id=en)\n",
    "            en = en + 1                \n",
    "    return G"
   ]
  },
  {
   "cell_type": "code",
   "execution_count": 37,
   "metadata": {
    "collapsed": true
   },
   "outputs": [],
   "source": [
    "def gen_concepts(words, topn=10):\n",
    "    results = []\n",
    "    for word in words:\n",
    "        results.append((word, 1))\n",
    "        results = results + model.most_similar(word,topn=topn)\n",
    "    G = JsonGraph()\n",
    "    \n",
    "    i=-1\n",
    "    for e in results:\n",
    "        i = i + 1\n",
    "        G.add_node(i, label=e[0])\n",
    "        #G.add_edge(0, i, id=en)\n",
    "        #en = en + 1                \n",
    "    return G    "
   ]
  },
  {
   "cell_type": "raw",
   "metadata": {},
   "source": [
    "def gen_concepts(words, topn=10):\n",
    "\n",
    "    nodes=[]\n",
    "    edges=[]\n",
    "    for word in words:\n",
    "        print(word)\n",
    "        H = gen_concept(word, topn=topn)\n",
    "        #nodes.append(H.nodes(data=True))\n",
    "        #edges.append(H.edges(data=True))\n",
    "        nodes = nodes + H.nodes(data=True)\n",
    "        edges = edges + H.edges(data=True)\n",
    "\n",
    "    G = JsonGraph()\n",
    "    #G.add_nodes_from(nodes)\n",
    "    G.add_edges_from(edges)\n",
    "    print(nodes)\n",
    "    return nodes,edges"
   ]
  },
  {
   "cell_type": "code",
   "execution_count": null,
   "metadata": {
    "collapsed": true
   },
   "outputs": [],
   "source": []
  }
 ],
 "metadata": {
  "anaconda-cloud": {},
  "kernelspec": {
   "display_name": "Python [conda root]",
   "language": "python",
   "name": "conda-root-py"
  },
  "language_info": {
   "codemirror_mode": {
    "name": "ipython",
    "version": 2
   },
   "file_extension": ".py",
   "mimetype": "text/x-python",
   "name": "python",
   "nbconvert_exporter": "python",
   "pygments_lexer": "ipython2",
   "version": "2.7.13"
  }
 },
 "nbformat": 4,
 "nbformat_minor": 2
}

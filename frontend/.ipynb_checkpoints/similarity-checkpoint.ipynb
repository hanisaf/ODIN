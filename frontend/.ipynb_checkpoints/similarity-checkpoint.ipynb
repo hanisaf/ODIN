{
 "cells": [
  {
   "cell_type": "code",
   "execution_count": 1,
   "metadata": {
    "collapsed": false
   },
   "outputs": [
    {
     "name": "stderr",
     "output_type": "stream",
     "text": [
      "/root/anaconda2/lib/python2.7/site-packages/gensim/utils.py:1015: UserWarning: Pattern library is not installed, lemmatization won't be available.\n",
      "  warnings.warn(\"Pattern library is not installed, lemmatization won't be available.\")\n"
     ]
    }
   ],
   "source": [
    "from gensim.models import Word2Vec\n",
    "import json\n",
    "import networkx as nx\n",
    "from  networkx.readwrite.json_graph import node_link_data"
   ]
  },
  {
   "cell_type": "code",
   "execution_count": 2,
   "metadata": {
    "collapsed": true
   },
   "outputs": [],
   "source": [
    "model = Word2Vec.load('data/model3.model')"
   ]
  },
  {
   "cell_type": "code",
   "execution_count": 16,
   "metadata": {
    "collapsed": false
   },
   "outputs": [],
   "source": [
    "def gen_concept(word):\n",
    "    if word is not None:\n",
    "        try:\n",
    "            results = model.most_similar(word)\n",
    "            G = nx.DiGraph()\n",
    "            G.add_node(0, label=word)\n",
    "            i = 0\n",
    "            en = 0\n",
    "            for e in results:\n",
    "                i = i + 1\n",
    "                G.add_node(i, label=e[0])\n",
    "                G.add_edge(0, i, id=en)\n",
    "                en = en + 1\n",
    "            rgraph=node_link_data(G, dict(id='id', source='source', target='target', key='key'))\n",
    "            nodes = rgraph['nodes']\n",
    "            edges = rgraph['links']\n",
    "            #nodes=[{\"id\":\"n%d\"%i, \"label\":results[i][0]}  for i in range(len(results))]\n",
    "            #edges=[]\n",
    "        except Exception as e:\n",
    "            nodes=edges=[]\n",
    "            print(e)\n",
    "        graph = {\"nodes\":nodes, \"edges\":edges}\n",
    "        #result_json = json.dumps(graph)\n",
    "    return graph"
   ]
  },
  {
   "cell_type": "code",
   "execution_count": null,
   "metadata": {
    "collapsed": false
   },
   "outputs": [],
   "source": []
  },
  {
   "cell_type": "code",
   "execution_count": null,
   "metadata": {
    "collapsed": true
   },
   "outputs": [],
   "source": []
  }
 ],
 "metadata": {
  "anaconda-cloud": {},
  "kernelspec": {
   "display_name": "Python [conda root]",
   "language": "python",
   "name": "conda-root-py"
  },
  "language_info": {
   "codemirror_mode": {
    "name": "ipython",
    "version": 2
   },
   "file_extension": ".py",
   "mimetype": "text/x-python",
   "name": "python",
   "nbconvert_exporter": "python",
   "pygments_lexer": "ipython2",
   "version": "2.7.13"
  }
 },
 "nbformat": 4,
 "nbformat_minor": 2
}

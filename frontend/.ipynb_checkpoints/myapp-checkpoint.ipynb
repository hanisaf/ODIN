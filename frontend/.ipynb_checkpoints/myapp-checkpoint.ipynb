{
 "cells": [
  {
   "cell_type": "code",
   "execution_count": 9,
   "metadata": {
    "collapsed": false
   },
   "outputs": [],
   "source": [
    "from flask import Flask, json, Response, request\n",
    "#from werkzeuk.utils import find_modules, import_str"
   ]
  },
  {
   "cell_type": "code",
   "execution_count": 24,
   "metadata": {
    "collapsed": true
   },
   "outputs": [],
   "source": [
    "class ApiResult(object):\n",
    "    def __init__(self, value, status=200):\n",
    "        self.value = value\n",
    "        self.status = status\n",
    "        \n",
    "    def to_response(self):\n",
    "        return Response(json.dumps(self.value), status=self.status, mimetype='application/json')"
   ]
  },
  {
   "cell_type": "code",
   "execution_count": null,
   "metadata": {
    "collapsed": true
   },
   "outputs": [],
   "source": [
    "class ApiException(object):\n",
    "    def __init__(self, message, status=400):\n",
    "        self.message = message\n",
    "        self.status = status\n",
    "    \n",
    "    def to_result(self):\n",
    "        return ApiResult({'message':self.message}, status=self.status)"
   ]
  },
  {
   "cell_type": "code",
   "execution_count": 10,
   "metadata": {
    "collapsed": true
   },
   "outputs": [],
   "source": [
    "class ApiFlask(Flask):\n",
    "    def make_response(self, rv):\n",
    "        if isinstance(rv, ApiResult):\n",
    "            return rv.to_response()\n",
    "        return Flask.make_response(self, rv)\n",
    "    def register_error_handlers(app):\n",
    "        app.register_error_handler(ApiException, lambda err: err.to_result())\n",
    "    "
   ]
  },
  {
   "cell_type": "code",
   "execution_count": 11,
   "metadata": {
    "collapsed": true
   },
   "outputs": [],
   "source": []
  },
  {
   "cell_type": "code",
   "execution_count": 12,
   "metadata": {
    "collapsed": true
   },
   "outputs": [],
   "source": []
  },
  {
   "cell_type": "code",
   "execution_count": 13,
   "metadata": {
    "collapsed": true
   },
   "outputs": [],
   "source": [
    "def create_app(config=None):\n",
    "    app = ApiFlask(__name__)\n",
    "    app.config.update(config or {})\n",
    "    #register_error_handlers(app)\n",
    "    #register_blueprints(app)\n",
    "    return app"
   ]
  },
  {
   "cell_type": "code",
   "execution_count": null,
   "metadata": {
    "collapsed": true
   },
   "outputs": [],
   "source": []
  }
 ],
 "metadata": {
  "anaconda-cloud": {},
  "kernelspec": {
   "display_name": "Python [conda root]",
   "language": "python",
   "name": "conda-root-py"
  },
  "language_info": {
   "codemirror_mode": {
    "name": "ipython",
    "version": 2
   },
   "file_extension": ".py",
   "mimetype": "text/x-python",
   "name": "python",
   "nbconvert_exporter": "python",
   "pygments_lexer": "ipython2",
   "version": "2.7.13"
  }
 },
 "nbformat": 4,
 "nbformat_minor": 2
}

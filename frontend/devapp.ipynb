{
 "cells": [
  {
   "cell_type": "code",
   "execution_count": 5,
   "metadata": {
    "collapsed": false
   },
   "outputs": [],
   "source": [
    "from myapp import *\n",
    "from similarity import gen_concepts\n",
    "from flask import request, render_template"
   ]
  },
  {
   "cell_type": "code",
   "execution_count": 6,
   "metadata": {
    "collapsed": true
   },
   "outputs": [],
   "source": [
    "app = create_app()"
   ]
  },
  {
   "cell_type": "code",
   "execution_count": null,
   "metadata": {
    "collapsed": true
   },
   "outputs": [],
   "source": [
    "@app.route('/bootstrap')\n",
    "def f():\n",
    "    return render_template('bootstrap.html')"
   ]
  },
  {
   "cell_type": "code",
   "execution_count": null,
   "metadata": {
    "collapsed": true
   },
   "outputs": [],
   "source": [
    "@app.route('/search')\n",
    "def index():\n",
    "    return render_template('bootstrap.html')"
   ]
  },
  {
   "cell_type": "code",
   "execution_count": 15,
   "metadata": {
    "collapsed": true
   },
   "outputs": [],
   "source": [
    "@app.route(\"/hello\")\n",
    "def hello():\n",
    "    \"\"\"Return a friendly HTTP greeting.\"\"\"\n",
    "    return ApiResult('Welcome to ODIN!')"
   ]
  },
  {
   "cell_type": "code",
   "execution_count": null,
   "metadata": {
    "collapsed": true
   },
   "outputs": [],
   "source": [
    "@app.route('/concept/<query>')\n",
    "def concept(query):\n",
    "    app.logger.info(query)\n",
    "    words = query.split(\"+\")\n",
    "    \n",
    "    try:\n",
    "        u = gen_concepts(words).jsonify()\n",
    "        return ApiResult(u)\n",
    "    except KeyError:\n",
    "        raise ApiException('Keyword not found')"
   ]
  },
  {
   "cell_type": "code",
   "execution_count": null,
   "metadata": {
    "collapsed": true
   },
   "outputs": [],
   "source": [
    "def concepts(words):\n",
    "    try:\n",
    "        u = gen_concepts([word1, word2]).jsonify()\n",
    "        return ApiResult(u)\n",
    "    except KeyError:\n",
    "        raise ApiException('Keyword not found')"
   ]
  },
  {
   "cell_type": "code",
   "execution_count": 4,
   "metadata": {
    "collapsed": true
   },
   "outputs": [],
   "source": [
    "@app.route('/add')\n",
    "def add_numbers():\n",
    "    a = request.args.get('a', type=int)\n",
    "    b = request.args.get('b', type=int)\n",
    "    if a is None or b is None:\n",
    "        raise ApiException('Numbers must be integers')\n",
    "    return ApiResult({'sum': a + b})"
   ]
  },
  {
   "cell_type": "code",
   "execution_count": 3,
   "metadata": {
    "collapsed": false
   },
   "outputs": [],
   "source": [
    "@app.errorhandler(404)\n",
    "def page_not_found(e):\n",
    "    \"\"\"Return a custom 404 error.\"\"\"\n",
    "    return 'Sorry, nothing at this URL.\\nCheck /help for more info', 404"
   ]
  },
  {
   "cell_type": "code",
   "execution_count": null,
   "metadata": {
    "collapsed": true
   },
   "outputs": [],
   "source": [
    "@app.route('/help')\n",
    "def help():\n",
    "    return ApiResult(map(lambda x: x.__repr__(),list(app.url_map.iter_rules())))"
   ]
  },
  {
   "cell_type": "code",
   "execution_count": null,
   "metadata": {
    "collapsed": true
   },
   "outputs": [],
   "source": [
    "# Will need it to test outside of App Engine\n",
    "if __name__ == '__main__':\n",
    "    app.run()"
   ]
  },
  {
   "cell_type": "code",
   "execution_count": null,
   "metadata": {
    "collapsed": true
   },
   "outputs": [],
   "source": []
  }
 ],
 "metadata": {
  "anaconda-cloud": {},
  "kernelspec": {
   "display_name": "Python [conda root]",
   "language": "python",
   "name": "conda-root-py"
  },
  "language_info": {
   "codemirror_mode": {
    "name": "ipython",
    "version": 2
   },
   "file_extension": ".py",
   "mimetype": "text/x-python",
   "name": "python",
   "nbconvert_exporter": "python",
   "pygments_lexer": "ipython2",
   "version": "2.7.13"
  }
 },
 "nbformat": 4,
 "nbformat_minor": 2
}

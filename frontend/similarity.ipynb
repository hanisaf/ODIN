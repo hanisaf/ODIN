{
 "cells": [
  {
   "cell_type": "code",
   "execution_count": 1,
   "metadata": {
    "collapsed": false
   },
   "outputs": [
    {
     "name": "stderr",
     "output_type": "stream",
     "text": [
      "/root/anaconda2/lib/python2.7/site-packages/gensim/utils.py:1015: UserWarning: Pattern library is not installed, lemmatization won't be available.\n",
      "  warnings.warn(\"Pattern library is not installed, lemmatization won't be available.\")\n"
     ]
    }
   ],
   "source": [
    "from gensim.models import Word2Vec\n",
    "import json\n",
    "import networkx as nx\n",
    "from  networkx.readwrite.json_graph import node_link_data\n",
    "from random import randint"
   ]
  },
  {
   "cell_type": "code",
   "execution_count": 2,
   "metadata": {
    "collapsed": true
   },
   "outputs": [],
   "source": [
    "model = Word2Vec.load('data/model3.model')"
   ]
  },
  {
   "cell_type": "code",
   "execution_count": 3,
   "metadata": {
    "collapsed": true
   },
   "outputs": [],
   "source": [
    "class JsonGraph(nx.Graph):\n",
    "    #def add_node(self, n, attr_dict=None, **attr):\n",
    "    #    nx.DiGraph.add_node(self, n, attr_dict, x=randint(0,100), y=randint(0,100), size=3, **attr)\n",
    "        \n",
    "    def jsonify(self):\n",
    "        G = self\n",
    "        H = nx.Graph()\n",
    "        node_dict = dict(zip(G.nodes(), range(len(G.nodes()))))\n",
    "        for i in node_dict.keys():\n",
    "            H.add_node(node_dict[i], label=i, x=randint(0,100), y=randint(0,100), size=3)\n",
    "        i = 0\n",
    "        for e in G.edges():\n",
    "            H.add_edge(node_dict[e[0]], node_dict[e[1]], id=\"e%d\"%i)\n",
    "            i = i + 1\n",
    "        rgraph=node_link_data(H, dict(id='id', source='source', target='target', key='key'))\n",
    "        nodes = rgraph['nodes']\n",
    "        edges = rgraph['links']\n",
    "        return {\"nodes\":nodes, \"edges\":edges}"
   ]
  },
  {
   "cell_type": "code",
   "execution_count": 4,
   "metadata": {
    "collapsed": true
   },
   "outputs": [],
   "source": [
    "def gen_concepts(words, topn=10):\n",
    "    G = JsonGraph()\n",
    "    for word in words:\n",
    "        G = nx.compose(G,gen_concept(word))\n",
    "    return G  "
   ]
  },
  {
   "cell_type": "code",
   "execution_count": 5,
   "metadata": {
    "collapsed": false
   },
   "outputs": [],
   "source": [
    "def gen_concept(word, topn=10):\n",
    "    G = JsonGraph()\n",
    "    if word is not None:\n",
    "        results = model.most_similar(word,topn=topn)\n",
    "        G.add_node(word)\n",
    "        for e in results:\n",
    "            G.add_node(e[0])\n",
    "            G.add_edge(word, e[0])\n",
    "    return G"
   ]
  }
 ],
 "metadata": {
  "anaconda-cloud": {},
  "kernelspec": {
   "display_name": "Python [conda root]",
   "language": "python",
   "name": "conda-root-py"
  },
  "language_info": {
   "codemirror_mode": {
    "name": "ipython",
    "version": 2
   },
   "file_extension": ".py",
   "mimetype": "text/x-python",
   "name": "python",
   "nbconvert_exporter": "python",
   "pygments_lexer": "ipython2",
   "version": "2.7.13"
  }
 },
 "nbformat": 4,
 "nbformat_minor": 2
}
